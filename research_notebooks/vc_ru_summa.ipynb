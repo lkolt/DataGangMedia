{
 "cells": [
  {
   "cell_type": "code",
   "execution_count": 127,
   "metadata": {},
   "outputs": [],
   "source": [
    "import gensim\n",
    "import numpy as np\n",
    "import nltk\n",
    "import re\n",
    "import pymorphy2\n",
    "from sklearn.decomposition import PCA\n",
    "from sklearn.cluster import KMeans\n",
    "from sklearn.metrics import pairwise_distances_argmin_min\n",
    "from copy import deepcopy\n",
    "import matplotlib.pyplot as plt"
   ]
  },
  {
   "cell_type": "code",
   "execution_count": 9,
   "metadata": {},
   "outputs": [],
   "source": [
    "text = \"«Сухой» ответил на идею переименовать Superjet 100. Новое название лайнера может понадобиться после создания «обновленного, востребованного рынком продукта». Ранее о возможном ребрендинге говорил глава «Ростеха» Сергей Чемезов. Компания «Гражданские самолеты Сухого» (входит в ОАК) может переименовать самолет Sukhoi Superjet 100 (SSJ100) после его модернизации в рамках политики импортозамещения. Об этом пишет ТАСС со ссылкой на пресс-службу ГСС. Модернизация позволит повысить безопасность и комфортность самолета и улучшить экономику эксплуатации лайнера, пояснили в компании. Там уточнили, что в том числе рассматривают смену названия после создания «востребованного рынком продукта». «Просто дать новое имя — не самоцель, его [обновленный самолет] нужно создать, нужно, чтобы было, что называть по-новому», — заключили в пресс-службе. При этом в рамках модернизации самолет должен стать «одним из лучших в своем классе», заявили в «Сухом». Чемезов заявил о возможном ребрендинге Superjet. В сентябрьском интервью РБК появление нового названия для SSJ100 также допускал глава «Ростеха» (в состав госкорпорации передали ОАК) Сергей Чемезов. «Что касается ребрендинга — может быть, действительно надо сделать. Тем более можно сделать наше российское название», — заявил он и отметил, что необходимо снизить зависимость от иностранных комплектующих в самолете. Комментируя претензии различных авиакомпаний к самолетам, Чемезов утверждал, что речь идет о «детских болезнях» SSJ100, которые «пройдут со временем». СМИ узнали о претензиях к SSJ100 из-за перегрузок при взлетах и посадках. На фоне майской катастрофы с SSJ100 «Аэрофлота» в Шереметьево, в которой погиб 41 человек, недовольство лайнерами высказывали его эксплуатанты, в частности «Ямал». Кроме того, как в августе писали «Ведомости» и ранее сообщали источники РБК, от SSJ100 планирует отказаться один из крупнейших зарубежных заказчиков — мексиканская Interjet. По данным собеседников РБК, у компании возникли претензии к послепродажному обслуживанию самолетов. В ГСС эту информацию отрицали.\""
   ]
  },
  {
   "cell_type": "code",
   "execution_count": 10,
   "metadata": {},
   "outputs": [
    {
     "data": {
      "text/plain": [
       "'«Сухой» ответил на идею переименовать Superjet 100. Новое название лайнера может понадобиться после создания «обновленного, востребованного рынком продукта». Ранее о возможном ребрендинге говорил глава «Ростеха» Сергей Чемезов. Компания «Гражданские самолеты Сухого» (входит в ОАК) может переименовать самолет Sukhoi Superjet 100 (SSJ100) после его модернизации в рамках политики импортозамещения. Об этом пишет ТАСС со ссылкой на пресс-службу ГСС. Модернизация позволит повысить безопасность и комфортность самолета и улучшить экономику эксплуатации лайнера, пояснили в компании. Там уточнили, что в том числе рассматривают смену названия после создания «востребованного рынком продукта». «Просто дать новое имя — не самоцель, его [обновленный самолет] нужно создать, нужно, чтобы было, что называть по-новому», — заключили в пресс-службе. При этом в рамках модернизации самолет должен стать «одним из лучших в своем классе», заявили в «Сухом». Чемезов заявил о возможном ребрендинге Superjet. В сентябрьском интервью РБК появление нового названия для SSJ100 также допускал глава «Ростеха» (в состав госкорпорации передали ОАК) Сергей Чемезов. «Что касается ребрендинга — может быть, действительно надо сделать. Тем более можно сделать наше российское название», — заявил он и отметил, что необходимо снизить зависимость от иностранных комплектующих в самолете. Комментируя претензии различных авиакомпаний к самолетам, Чемезов утверждал, что речь идет о «детских болезнях» SSJ100, которые «пройдут со временем». СМИ узнали о претензиях к SSJ100 из-за перегрузок при взлетах и посадках. На фоне майской катастрофы с SSJ100 «Аэрофлота» в Шереметьево, в которой погиб 41 человек, недовольство лайнерами высказывали его эксплуатанты, в частности «Ямал». Кроме того, как в августе писали «Ведомости» и ранее сообщали источники РБК, от SSJ100 планирует отказаться один из крупнейших зарубежных заказчиков — мексиканская Interjet. По данным собеседников РБК, у компании возникли претензии к послепродажному обслуживанию самолетов. В ГСС эту информацию отрицали.'"
      ]
     },
     "execution_count": 10,
     "metadata": {},
     "output_type": "execute_result"
    }
   ],
   "source": [
    "text"
   ]
  },
  {
   "cell_type": "code",
   "execution_count": 75,
   "metadata": {},
   "outputs": [],
   "source": [
    "pretrained_ft = gensim.models.fasttext.load_facebook_model('ru.bin', encoding='utf-8')"
   ]
  },
  {
   "cell_type": "code",
   "execution_count": 126,
   "metadata": {},
   "outputs": [],
   "source": [
    "def preprocessing_rus(sentence):\n",
    "    sentence = sentence.lower()\n",
    "    sentence = re.sub('[^А-Яа-яA-Za-z]+', ' ', sentence).strip()\n",
    "    return sentence\n",
    "\n",
    "def mean_sent_vector(sentence_tokens):\n",
    "    return np.array([np.mean([pretrained_ft[w] for w in sentence_tokens if w in pretrained_ft]\n",
    "                     or [np.zeros(300)], axis=0)])\n",
    "\n",
    "sents = nltk.sent_tokenize(text)\n",
    "sents_storage = deepcopy(sents)\n",
    "\n",
    "for i in range(len(sents)):\n",
    "    sents[i] = preprocessing_rus(sents[i])\n",
    "    sents[i] = nltk.tokenize.word_tokenize(sents[i])\n",
    "    for j in range(len(sents[i])):\n",
    "        sents[i][j] = pymorphy2.MorphAnalyzer().parse(sents[i][j])[0].normal_form"
   ]
  },
  {
   "cell_type": "code",
   "execution_count": 128,
   "metadata": {},
   "outputs": [
    {
     "data": {
      "text/plain": [
       "['«Сухой» ответил на идею переименовать Superjet 100.',\n",
       " 'Новое название лайнера может понадобиться после создания «обновленного, востребованного рынком продукта».',\n",
       " 'Ранее о возможном ребрендинге говорил глава «Ростеха» Сергей Чемезов.',\n",
       " 'Компания «Гражданские самолеты Сухого» (входит в ОАК) может переименовать самолет Sukhoi Superjet 100 (SSJ100) после его модернизации в рамках политики импортозамещения.',\n",
       " 'Об этом пишет ТАСС со ссылкой на пресс-службу ГСС.',\n",
       " 'Модернизация позволит повысить безопасность и комфортность самолета и улучшить экономику эксплуатации лайнера, пояснили в компании.',\n",
       " 'Там уточнили, что в том числе рассматривают смену названия после создания «востребованного рынком продукта».',\n",
       " '«Просто дать новое имя — не самоцель, его [обновленный самолет] нужно создать, нужно, чтобы было, что называть по-новому», — заключили в пресс-службе.',\n",
       " 'При этом в рамках модернизации самолет должен стать «одним из лучших в своем классе», заявили в «Сухом».',\n",
       " 'Чемезов заявил о возможном ребрендинге Superjet.',\n",
       " 'В сентябрьском интервью РБК появление нового названия для SSJ100 также допускал глава «Ростеха» (в состав госкорпорации передали ОАК) Сергей Чемезов.',\n",
       " '«Что касается ребрендинга — может быть, действительно надо сделать.',\n",
       " 'Тем более можно сделать наше российское название», — заявил он и отметил, что необходимо снизить зависимость от иностранных комплектующих в самолете.',\n",
       " 'Комментируя претензии различных авиакомпаний к самолетам, Чемезов утверждал, что речь идет о «детских болезнях» SSJ100, которые «пройдут со временем».',\n",
       " 'СМИ узнали о претензиях к SSJ100 из-за перегрузок при взлетах и посадках.',\n",
       " 'На фоне майской катастрофы с SSJ100 «Аэрофлота» в Шереметьево, в которой погиб 41 человек, недовольство лайнерами высказывали его эксплуатанты, в частности «Ямал».',\n",
       " 'Кроме того, как в августе писали «Ведомости» и ранее сообщали источники РБК, от SSJ100 планирует отказаться один из крупнейших зарубежных заказчиков — мексиканская Interjet.',\n",
       " 'По данным собеседников РБК, у компании возникли претензии к послепродажному обслуживанию самолетов.',\n",
       " 'В ГСС эту информацию отрицали.']"
      ]
     },
     "execution_count": 128,
     "metadata": {},
     "output_type": "execute_result"
    }
   ],
   "source": [
    "sents_storage"
   ]
  },
  {
   "cell_type": "code",
   "execution_count": 111,
   "metadata": {},
   "outputs": [
    {
     "name": "stderr",
     "output_type": "stream",
     "text": [
      "/Users/user007/Documents/Workspace/venv/lib/python3.7/site-packages/ipykernel_launcher.py:7: DeprecationWarning: Call to deprecated `__contains__` (Method will be removed in 4.0.0, use self.wv.__contains__() instead).\n",
      "  import sys\n",
      "/Users/user007/Documents/Workspace/venv/lib/python3.7/site-packages/ipykernel_launcher.py:7: DeprecationWarning: Call to deprecated `__getitem__` (Method will be removed in 4.0.0, use self.wv.__getitem__() instead).\n",
      "  import sys\n"
     ]
    }
   ],
   "source": [
    "sent_vectors = []\n",
    "for sent in sents:\n",
    "    sent_vectors.append(np.squeeze(mean_sent_vector(sent)))\n",
    "sent_vectors = np.asarray(sent_vectors)"
   ]
  },
  {
   "cell_type": "code",
   "execution_count": 129,
   "metadata": {},
   "outputs": [],
   "source": [
    "n_clusters = 3\n",
    "kmeans = KMeans(n_clusters=n_clusters).fit(sent_vectors)"
   ]
  },
  {
   "cell_type": "code",
   "execution_count": 122,
   "metadata": {},
   "outputs": [],
   "source": [
    "pca = PCA(n_components=2, random_state=0)\n",
    "reduced_features = pca.fit_transform(sent_vectors)\n",
    "\n",
    "# reduce the cluster centers to 2D\n",
    "reduced_cluster_centers = pca.transform(kmeans.cluster_centers_)"
   ]
  },
  {
   "cell_type": "code",
   "execution_count": 123,
   "metadata": {},
   "outputs": [
    {
     "data": {
      "text/plain": [
       "<matplotlib.collections.PathCollection at 0x127aa0908>"
      ]
     },
     "execution_count": 123,
     "metadata": {},
     "output_type": "execute_result"
    },
    {
     "data": {
      "image/png": "[encoded data removed]",
      "text/plain": [
       "<Figure size 1080x360 with 1 Axes>"
      ]
     },
     "metadata": {
      "needs_background": "light"
     },
     "output_type": "display_data"
    }
   ],
   "source": [
    "plt.figure(figsize=(15,5))\n",
    "plt.scatter(reduced_features[:,0], reduced_features[:,1], c=kmeans.predict(sent_vectors))\n",
    "plt.scatter(reduced_cluster_centers[:, 0], reduced_cluster_centers[:,1], marker='x', s=150, c='b')"
   ]
  },
  {
   "cell_type": "code",
   "execution_count": 218,
   "metadata": {},
   "outputs": [],
   "source": [
    "centre_sents_idx = []\n",
    "for j in range(n_clusters):\n",
    "    idx_cand = np.where(kmeans.labels_ == j)\n",
    "    vec_cand = sent_vectors[idx_cand]\n",
    "    closest, dist = pairwise_distances_argmin_min([kmeans.cluster_centers_[j]], vec_cand)\n",
    "    centre_sents_idx.append(idx_cand[0][int(closest)])\n",
    "centre_sents_idx = sorted(centre_sents_idx)\n",
    "#     print(closest)"
   ]
  },
  {
   "cell_type": "code",
   "execution_count": 221,
   "metadata": {},
   "outputs": [],
   "source": [
    "summary = ' '.join([sents_storage[i] for i in centre_sents_idx])\n"
   ]
  },
  {
   "cell_type": "code",
   "execution_count": 222,
   "metadata": {},
   "outputs": [
    {
     "name": "stdout",
     "output_type": "stream",
     "text": [
      "Компания «Гражданские самолеты Сухого» (входит в ОАК) может переименовать самолет Sukhoi Superjet 100 (SSJ100) после его модернизации в рамках политики импортозамещения. Об этом пишет ТАСС со ссылкой на пресс-службу ГСС. «Просто дать новое имя — не самоцель, его [обновленный самолет] нужно создать, нужно, чтобы было, что называть по-новому», — заключили в пресс-службе.\n"
     ]
    }
   ],
   "source": [
    "print(summary)"
   ]
  },
  {
   "cell_type": "code",
   "execution_count": null,
   "metadata": {},
   "outputs": [],
   "source": []
  }
 ],
 "metadata": {
  "kernelspec": {
   "display_name": "Python 3",
   "language": "python",
   "name": "python3"
  },
  "language_info": {
   "codemirror_mode": {
    "name": "ipython",
    "version": 3
   },
   "file_extension": ".py",
   "mimetype": "text/x-python",
   "name": "python",
   "nbconvert_exporter": "python",
   "pygments_lexer": "ipython3",
   "version": "3.7.2"
  }
 },
 "nbformat": 4,
 "nbformat_minor": 2
}
